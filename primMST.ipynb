{
 "cells": [
  {
   "cell_type": "code",
   "execution_count": 26,
   "metadata": {},
   "outputs": [],
   "source": [
    "import heapq\n",
    "\n",
    "with open(r'Data\\edges.txt','r') as f:\n",
    "    edgelist=f.readlines()\n",
    "edgelist = [(int(x.split()[0]),int(x.split()[1]),int(x.split()[2])) for x in edgelist[1:] ]"
   ]
  },
  {
   "cell_type": "code",
   "execution_count": 27,
   "metadata": {},
   "outputs": [],
   "source": [
    "class PrimMST (object):\n",
    "    def __init__(self, edgelist):\n",
    "        #Convert edgelist to adjancency nodelist\n",
    "        self.nodelist={}\n",
    "        for i in range(len(edgelist)):\n",
    "            if edgelist[i][0] != edgelist[i][1]:\n",
    "                if edgelist[i][0] in self.nodelist: \n",
    "                    if edgelist[i][1] in self.nodelist[edgelist[i][0]]:\n",
    "                        if edgelist[i][2] < self.nodelist[edgelist[i][0]][edgelist[i][1]]:\n",
    "                            self.nodelist[edgelist[i][0]][edgelist[i][1]] = edgelist[i][2]\n",
    "                    else:\n",
    "                        self.nodelist[edgelist[i][0]][edgelist[i][1]]=edgelist[i][2]\n",
    "                else:\n",
    "                    self.nodelist[edgelist[i][0]]={edgelist[i][1]:edgelist[i][2]}\n",
    "                if edgelist[i][1] in self.nodelist: \n",
    "                    if edgelist[i][0] in self.nodelist[edgelist[i][1]]:\n",
    "                        if edgelist[i][2] < self.nodelist[edgelist[i][1]][edgelist[i][0]]:\n",
    "                            self.nodelist[edgelist[i][1]][edgelist[i][0]] = edgelist[i][2]\n",
    "                    else:\n",
    "                        self.nodelist[edgelist[i][1]][edgelist[i][0]]=edgelist[i][2]\n",
    "                else:\n",
    "                    self.nodelist[edgelist[i][1]]={edgelist[i][0]:edgelist[i][2]}\n",
    "        #MSTnodelist: a hash table stores list of nodes that is currently added to MST \n",
    "        self.MSTnodelist={edgelist[0][0]}\n",
    "        #MSTedgelist: a hash table stores list of edges that is currently added to MST\n",
    "        self.MSTedgelist=[]\n",
    "        #MSTheap: a heap that stores the minimum cost cross the nodes in MSTnodelist and nodes not in MSTnodelist for each node not in MSTnodelist\n",
    "        #there might be multiple values stored for the same node in the MSTheap, but only the minimum for the same node matters\n",
    "        self.MSTheap=[(v,k) for k,v in self.nodelist[edgelist[0][0]].items()]\n",
    "        heapq.heapify(self.MSTheap)\n",
    "        #MSTdict: a hash table stores the key value map in MSTheap\n",
    "        self.MSTdict=dict([[k,[edgelist[0][0],v]] for k,v in self.nodelist[edgelist[0][0]].items()])\n",
    "    def get_prim_mst(self):\n",
    "        while len(self.MSTnodelist) != len(self.nodelist):\n",
    "            #get the node to be added to MSTnodelist\n",
    "            #as there is no deletion in the MSTheap, we need to pop the node from MSTheap until find a node that is not in MSTnodelist\n",
    "            node=heapq.heappop(self.MSTheap)[1]\n",
    "            while node in self.MSTnodelist:\n",
    "                node=heapq.heappop(self.MSTheap)[1]\n",
    "            #add the node/edge to MSTnodelist. MSTedgelist\n",
    "            self.MSTnodelist.add(node)\n",
    "            self.MSTedgelist.append((node, self.MSTdict[node][0], self.MSTdict[node][1]))\n",
    "            #update MSTheap, MSTdict\n",
    "            for key in self.nodelist[node].keys():\n",
    "                #for connected nodes of the newly added nodes, that is not in MSTnodelist yet, add/update MSTdict & MSTheap\n",
    "                if key not in self.MSTnodelist:\n",
    "                    #1. the connected node is not yet in MSTdict/MSTheap\n",
    "                    #push the edge between the connected node and newly added node to MSTheap & MSTdict\n",
    "                    #2. if the crossing edge cost of the connected node recorded in MSTdict/MSTheap is greater then the edge between the connected node and the newly added node\n",
    "                    #update MSTdict for the connected node, with the edge between the connected node and newly added node\n",
    "                    #push the edge between the connected node and newly added node to MSTheap\n",
    "                    if (key not in self.MSTdict.keys()):\n",
    "                        self.MSTdict[key]=[node, self.nodelist[node][key]]\n",
    "                        heapq.heappush(self.MSTheap,(self.nodelist[node][key],key))    \n",
    "                    elif ((key in self.MSTdict.keys()) & (self.MSTdict[key][1]>=self.nodelist[node][key])):\n",
    "                        self.MSTdict[key]=[node, self.nodelist[node][key]]\n",
    "                        heapq.heappush(self.MSTheap,(self.nodelist[node][key],key))                        "
   ]
  },
  {
   "cell_type": "code",
   "execution_count": 28,
   "metadata": {},
   "outputs": [
    {
     "data": {
      "text/plain": [
       "-229263767"
      ]
     },
     "execution_count": 28,
     "metadata": {},
     "output_type": "execute_result"
    }
   ],
   "source": [
    "prim=PrimMST(edgelist)\n",
    "prim.get_prim_mst()\n",
    "prim.MSTedgelist\n",
    "sum([edge[2] for edge in prim.MSTedgelist])"
   ]
  },
  {
   "cell_type": "code",
   "execution_count": null,
   "metadata": {},
   "outputs": [],
   "source": [
    "#tested"
   ]
  }
 ],
 "metadata": {
  "kernelspec": {
   "display_name": "Python 3",
   "language": "python",
   "name": "python3"
  },
  "language_info": {
   "codemirror_mode": {
    "name": "ipython",
    "version": 3
   },
   "file_extension": ".py",
   "mimetype": "text/x-python",
   "name": "python",
   "nbconvert_exporter": "python",
   "pygments_lexer": "ipython3",
   "version": "3.6.4"
  }
 },
 "nbformat": 4,
 "nbformat_minor": 2
}
